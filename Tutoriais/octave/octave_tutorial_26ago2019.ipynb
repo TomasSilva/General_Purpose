{
 "cells": [
  {
   "cell_type": "markdown",
   "metadata": {},
   "source": [
    "# Octave Tutorial\n",
    "## MS211 - Numerical Calculus, 2S 2019\n",
    "### University of Campinas\n",
    "#### Author: Tomás S. R. Silva\n",
    "\n",
    "This is a brief tutorial about the GNU/Octave utilization. It was given under the context of the discipline MS211-Numerical Calculus.\n",
    "\n"
   ]
  },
  {
   "cell_type": "code",
   "execution_count": 1,
   "metadata": {},
   "outputs": [
    {
     "name": "stdout",
     "output_type": "stream",
     "text": [
      "Variables in the current scope:\n",
      "\n",
      "   Attr Name        Size                     Bytes  Class\n",
      "   ==== ====        ====                     =====  ===== \n",
      "        ans         1x5                          5  char\n",
      "\n",
      "Total is 5 elements using 5 bytes\n",
      "\n",
      "####Instantiating Variables\n",
      "a =  1\n",
      "b = ola\n",
      "c =\n",
      "\n",
      "   1   2\n",
      "\n",
      "d =\n",
      "\n",
      "   1   2\n",
      "   3   4\n",
      "\n",
      "####Seeing Variables\n",
      "Variables in the current scope:\n",
      "\n",
      "   Attr Name        Size                     Bytes  Class\n",
      "   ==== ====        ====                     =====  ===== \n",
      "        a           1x1                          8  double\n",
      "        ans         1x5                          5  char\n",
      "        b           1x3                          3  char\n",
      "        c           1x2                         16  double\n",
      "        d           2x2                         32  double\n",
      "\n",
      "Total is 15 elements using 64 bytes\n",
      "\n"
     ]
    }
   ],
   "source": [
    "##Command to describe the existente variables:\n",
    "whos\n",
    "\n",
    "##Exemples of variables\n",
    "printf(\"####Instantiating Variables\\n\")\n",
    "a=1          #integer\n",
    "b=\"ola\"      #string\n",
    "c=[1 2]      #vector\n",
    "d=[1 2; 3 4] #matrix\n",
    "printf(\"####Seeing Variables\\n\")\n",
    "whos"
   ]
  },
  {
   "cell_type": "code",
   "execution_count": 2,
   "metadata": {},
   "outputs": [
    {
     "name": "stdout",
     "output_type": "stream",
     "text": [
      "a =  0.33333\n",
      "bank\n",
      "a = 0.33\n",
      "short\n",
      "a =  0.33333\n"
     ]
    }
   ],
   "source": [
    "##Formats:\n",
    "\n",
    "a=1/3\n",
    "printf(\"bank\\n\")\n",
    "format bank\n",
    "a\n",
    "\n",
    "printf(\"short\\n\")\n",
    "format short\n",
    "a"
   ]
  },
  {
   "cell_type": "code",
   "execution_count": 3,
   "metadata": {},
   "outputs": [
    {
     "name": "stdout",
     "output_type": "stream",
     "text": [
      "MATRIX WITH ZEROS ixj \n",
      "x =\n",
      "\n",
      "   0\n",
      "   0\n",
      "   0\n",
      "   0\n",
      "   0\n",
      "\n",
      "x =\n",
      "\n",
      "   0   0   0   0   0\n",
      "\n",
      "MATRIX WITH ONES ixj \n",
      "y =\n",
      "\n",
      "   1\n",
      "   1\n",
      "   1\n",
      "   1\n",
      "   1\n",
      "\n",
      "y =\n",
      "\n",
      "   1   1   1   1   1\n",
      "\n",
      "RANDOM MATRIX ixj \n",
      "z =\n",
      "\n",
      "   0.448506\n",
      "   0.457946\n",
      "   0.081880\n",
      "   0.129977\n",
      "   0.555865\n",
      "\n",
      "z =\n",
      "\n",
      "   0.53229   0.20334   0.16186   0.62851   0.60541\n",
      "\n"
     ]
    }
   ],
   "source": [
    "##Alocating a matrix\n",
    "printf(\"MATRIX WITH ZEROS ixj \\n\")\n",
    "x=zeros(5,1)\n",
    "x=zeros(1,5)\n",
    "\n",
    "printf(\"MATRIX WITH ONES ixj \\n\")\n",
    "y=ones(5,1)\n",
    "y=ones(1,5)\n",
    "\n",
    "printf(\"RANDOM MATRIX ixj \\n\")\n",
    "z=rand(5,1)\n",
    "z=rand(1,5)"
   ]
  },
  {
   "cell_type": "code",
   "execution_count": 4,
   "metadata": {},
   "outputs": [
    {
     "name": "stdout",
     "output_type": "stream",
     "text": [
      "a =\n",
      "\n",
      "   0.194969   0.029699   0.641969   0.392980   0.326738   0.977682   0.354557\n",
      "\n",
      "b =\n",
      "\n",
      "   0.053131   0.679790   0.130330   0.221106   0.143479   0.196108   0.021038\n",
      "\n",
      "ans =\n",
      "\n",
      "   0.24810   0.70949   0.77230   0.61409   0.47022   1.17379   0.37559\n",
      "\n",
      "ans =\n",
      "\n",
      "   0.14184  -0.65009   0.51164   0.17187   0.18326   0.78157   0.33352\n",
      "\n"
     ]
    }
   ],
   "source": [
    "##OPERATIONS\n",
    "    #NOTE: pay attention with the dimensions of the components involved on the operations\n",
    "a=rand(1, 7)\n",
    "b=rand(1, 7)\n",
    "a+b\n",
    "a-b"
   ]
  },
  {
   "cell_type": "code",
   "execution_count": 5,
   "metadata": {},
   "outputs": [
    {
     "data": {
      "image/png": "[encoded data removed]",
      "text/plain": [
       "<IPython.core.display.Image object>"
      ]
     },
     "metadata": {},
     "output_type": "display_data"
    }
   ],
   "source": [
    "##GRAPHICS\n",
    "x=-10:0.1:10; ##vector with v_0=-10, v_n=10 and v_(i+1)-v_i=0.1\n",
    "plot(x, sin(x), \"r\"); ## \"r\"==red. It's blue by default\n",
    "title(\"x, sin(x)\");\n",
    "xlabel(\"x\");\n",
    "ylabel(\"sin(x)\");"
   ]
  },
  {
   "cell_type": "code",
   "execution_count": 6,
   "metadata": {},
   "outputs": [
    {
     "name": "stdout",
     "output_type": "stream",
     "text": [
      "f =\n",
      "\n",
      "@(x) 10 * log (x) - 1\n",
      "\n",
      "f(0)=-Inf \n",
      "f(1)=-1 \n"
     ]
    },
    {
     "data": {
      "image/png": "[encoded data removed]",
      "text/plain": [
       "<IPython.core.display.Image object>"
      ]
     },
     "metadata": {},
     "output_type": "display_data"
    }
   ],
   "source": [
    "##Math Functions F(X)\n",
    "f=@(x)10*log(x)-1 ##f(x)=10*log(x)-1\n",
    "f(0);\n",
    "printf(\"f(0)=%d \\n\", ans)\n",
    "f(1);\n",
    "printf(\"f(1)=%d \\n\", ans)\n",
    "x=0:0.1:10;\n",
    "plot(f(x), x)"
   ]
  },
  {
   "cell_type": "code",
   "execution_count": 7,
   "metadata": {},
   "outputs": [
    {
     "name": "stdout",
     "output_type": "stream",
     "text": [
      "a =\n",
      "\n",
      "   0.050593   0.768732\n",
      "   0.359814   0.536651\n",
      "\n",
      "b =\n",
      "\n",
      "   0.43490\n",
      "   0.42956\n",
      "\n",
      "ans =\n",
      "\n",
      "   0.38815\n",
      "   0.54020\n",
      "\n"
     ]
    }
   ],
   "source": [
    "##Function\n",
    "function solve_system(a,b)\n",
    "    a\\b\n",
    "endfunction\n",
    "\n",
    "a=rand(2,2)\n",
    "b=rand(2,1)\n",
    "solve_system(a,b)"
   ]
  }
 ],
 "metadata": {
  "kernelspec": {
   "display_name": "Octave",
   "language": "octave",
   "name": "octave"
  },
  "language_info": {
   "file_extension": ".m",
   "help_links": [
    {
     "text": "GNU Octave",
     "url": "https://www.gnu.org/software/octave/support.html"
    },
    {
     "text": "Octave Kernel",
     "url": "https://github.com/Calysto/octave_kernel"
    },
    {
     "text": "MetaKernel Magics",
     "url": "https://metakernel.readthedocs.io/en/latest/source/README.html"
    }
   ],
   "mimetype": "text/x-octave",
   "name": "octave",
   "version": "5.1.0"
  }
 },
 "nbformat": 4,
 "nbformat_minor": 2
}
