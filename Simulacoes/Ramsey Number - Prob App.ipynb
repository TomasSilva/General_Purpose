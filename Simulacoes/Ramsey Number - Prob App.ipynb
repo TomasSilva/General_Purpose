{
 "cells": [
  {
   "cell_type": "markdown",
   "metadata": {},
   "source": [
    "# Lower Bound for Ramsey Number\n",
    "\n",
    "Lets consider a random 2-colouring on the edges of a graph, i.e., $c: \\binom{n}{2} \\rightarrow \\{ {\\color{red}R}, {\\color{blue}B}\\}$, where $\\mathbb{P}(c(e)={\\color{red}R})=1/2, \\forall e \\in E(K_n).$\n",
    "\n",
    "Let $X$ be a random variable s.t. $X=\\#$ of MC copies of $K_k$ in $c \\in \\{1, 2, ...\\}$\n",
    "\n",
    "The expected value for $X$ is \n",
    "$ E[X] = \\displaystyle \\sum_{K_k \\subset K_n} \\mathbb{P}(K_k is MC)=\\binom{n}{k} \\left( \\frac{1}{2} \\right)^{\\binom{k}{2}-1}\n",
    "$ \n",
    "\n",
    "In this code, lets denote $E[x]$ by the funtion $E(n,k)$"
   ]
  },
  {
   "cell_type": "code",
   "execution_count": 2,
   "metadata": {},
   "outputs": [
    {
     "data": {
      "image/png": "[encoded data removed]",
      "text/plain": [
       "Graphics object consisting of 24 graphics primitives"
      ]
     },
     "execution_count": 2,
     "metadata": {},
     "output_type": "execute_result"
    }
   ],
   "source": [
    "#Declaring E(n,k)\n",
    "E(n, k) = (binomial(n,k))*((1/2)^(binomial(k,2)-1))\n",
    "\n",
    "g=Graphics()\n",
    "\n",
    "\n",
    "#CHANGE THIS VARIABLE TO INCREASE/DECREASE THE UPPER BOUND FOR k (CAUTION!!! LARGE NUMBERS SLOW DOWN)\n",
    "u=25\n",
    "\n",
    "#Simulating for k in [1,u]\n",
    "for k in range(1,u):\n",
    "    for n in range(ceil(sqrt(2)^k), 4^k):\n",
    "        if E(n,k)>=1:\n",
    "            g+=line([(k, floor(sqrt(2)^k)), (k, n)])\n",
    "            break\n",
    "\n",
    "\n",
    "\n",
    "g.plot()     "
   ]
  }
 ],
 "metadata": {
  "kernelspec": {
   "display_name": "SageMath 9.2",
   "language": "sage",
   "name": "sagemath"
  },
  "language_info": {
   "codemirror_mode": {
    "name": "ipython",
    "version": 3
   },
   "file_extension": ".py",
   "mimetype": "text/x-python",
   "name": "python",
   "nbconvert_exporter": "python",
   "pygments_lexer": "ipython3",
   "version": "3.8.6"
  }
 },
 "nbformat": 4,
 "nbformat_minor": 4
}
