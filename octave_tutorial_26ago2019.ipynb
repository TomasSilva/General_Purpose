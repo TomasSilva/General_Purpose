{
 "cells": [
  {
   "cell_type": "markdown",
   "metadata": {},
   "source": [
    "# Octave Tutorial\n",
    "## MS211 - Numerical Calculus, 2S 2019\n",
    "### University of Campinas\n",
    "#### Author: Tomás S. R. Silva\n",
    "\n",
    "This is a brief tutorial about the GNU/Octave utilization. It was given under the context of the discipline MS211-Numerical Calculus.\n",
    "\n"
   ]
  },
  {
   "cell_type": "code",
   "execution_count": 4,
   "metadata": {},
   "outputs": [
    {
     "name": "stdout",
     "output_type": "stream",
     "text": [
      "Variables in the current scope:\n",
      "\n",
      "   Attr Name        Size                     Bytes  Class\n",
      "   ==== ====        ====                     =====  ===== \n",
      "        a           1x1                          8  double\n",
      "        ans         1x5                          5  char\n",
      "        b           1x3                          3  char\n",
      "        c           1x2                         16  double\n",
      "        d           2x2                         32  double\n",
      "\n",
      "Total is 15 elements using 64 bytes\n",
      "\n",
      "####Instantiating Variables\n",
      "a =  1\n",
      "b = ola\n",
      "c =\n",
      "\n",
      "   1   2\n",
      "\n",
      "d =\n",
      "\n",
      "   1   2\n",
      "   3   4\n",
      "\n",
      "####Seeing Variables\n",
      "Variables in the current scope:\n",
      "\n",
      "   Attr Name        Size                     Bytes  Class\n",
      "   ==== ====        ====                     =====  ===== \n",
      "        a           1x1                          8  double\n",
      "        ans         1x5                          5  char\n",
      "        b           1x3                          3  char\n",
      "        c           1x2                         16  double\n",
      "        d           2x2                         32  double\n",
      "\n",
      "Total is 15 elements using 64 bytes\n",
      "\n"
     ]
    }
   ],
   "source": [
    "##Command to describe the existente variables:\n",
    "whos\n",
    "\n",
    "##Exemples of variables\n",
    "printf(\"####Instantiating Variables\\n\")\n",
    "a=1          #integer\n",
    "b=\"ola\"      #string\n",
    "c=[1 2]      #vector\n",
    "d=[1 2; 3 4] #matrix\n",
    "printf(\"####Seeing Variables\\n\")\n",
    "whos"
   ]
  },
  {
   "cell_type": "code",
   "execution_count": 5,
   "metadata": {},
   "outputs": [
    {
     "name": "stdout",
     "output_type": "stream",
     "text": [
      "a =  0.33333\n",
      "bank\n",
      "a = 0.33\n",
      "short\n",
      "a =  0.33333\n"
     ]
    }
   ],
   "source": [
    "##Formats:\n",
    "\n",
    "a=1/3\n",
    "printf(\"bank\\n\")\n",
    "format bank\n",
    "a\n",
    "\n",
    "printf(\"short\\n\")\n",
    "format short\n",
    "a"
   ]
  },
  {
   "cell_type": "code",
   "execution_count": 6,
   "metadata": {},
   "outputs": [
    {
     "name": "stdout",
     "output_type": "stream",
     "text": [
      "MATRIX WITH ZEROS ixj \n",
      "x =\n",
      "\n",
      "   0\n",
      "   0\n",
      "   0\n",
      "   0\n",
      "   0\n",
      "\n",
      "x =\n",
      "\n",
      "   0   0   0   0   0\n",
      "\n",
      "MATRIX WITH ONES ixj \n",
      "y =\n",
      "\n",
      "   1\n",
      "   1\n",
      "   1\n",
      "   1\n",
      "   1\n",
      "\n",
      "y =\n",
      "\n",
      "   1   1   1   1   1\n",
      "\n",
      "RANDOM MATRIX ixj \n",
      "z =\n",
      "\n",
      "   0.70768\n",
      "   0.57976\n",
      "   0.74923\n",
      "   0.75087\n",
      "   0.74908\n",
      "\n",
      "z =\n",
      "\n",
      "   0.0021171   0.8476961   0.0493467   0.6674398   0.1614456\n",
      "\n"
     ]
    }
   ],
   "source": [
    "##Alocating a matrix\n",
    "printf(\"MATRIX WITH ZEROS ixj \\n\")\n",
    "x=zeros(5,1)\n",
    "x=zeros(1,5)\n",
    "\n",
    "printf(\"MATRIX WITH ONES ixj \\n\")\n",
    "y=ones(5,1)\n",
    "y=ones(1,5)\n",
    "\n",
    "printf(\"RANDOM MATRIX ixj \\n\")\n",
    "z=rand(5,1)\n",
    "z=rand(1,5)"
   ]
  },
  {
   "cell_type": "code",
   "execution_count": 7,
   "metadata": {},
   "outputs": [
    {
     "name": "stdout",
     "output_type": "stream",
     "text": [
      "a =\n",
      "\n",
      "   0.12012   0.35173   0.41366   0.24889   0.83543   0.54886   0.57487\n",
      "\n",
      "b =\n",
      "\n",
      "   0.852892   0.997409   0.172620   0.437250   0.599634   0.024129   0.041070\n",
      "\n",
      "ans =\n",
      "\n",
      "   0.97301   1.34914   0.58628   0.68614   1.43507   0.57299   0.61594\n",
      "\n",
      "ans =\n",
      "\n",
      "  -0.73277  -0.64568   0.24104  -0.18836   0.23580   0.52473   0.53380\n",
      "\n"
     ]
    }
   ],
   "source": [
    "##OPERATIONS\n",
    "    #NOTE: pay attention with the dimensions of the components involved on the operations\n",
    "a=rand(1, 7)\n",
    "b=rand(1, 7)\n",
    "a+b\n",
    "a-b"
   ]
  },
  {
   "cell_type": "code",
   "execution_count": 8,
   "metadata": {},
   "outputs": [
    {
     "data": {
      "image/png": "[encoded data removed]",
      "text/plain": [
       "<IPython.core.display.Image object>"
      ]
     },
     "metadata": {},
     "output_type": "display_data"
    }
   ],
   "source": [
    "##GRAPHICS\n",
    "x=-10:0.1:10; ##vector with v_0=-10, v_n=10 and v_(i+1)-v_i=0.1\n",
    "plot(x, sin(x), \"r\"); ## \"r\"==red. It's blue by default\n",
    "title(\"x, sin(x)\");\n",
    "xlabel(\"x\");\n",
    "ylabel(\"sin(x)\");"
   ]
  },
  {
   "cell_type": "code",
   "execution_count": 37,
   "metadata": {},
   "outputs": [
    {
     "name": "stdout",
     "output_type": "stream",
     "text": [
      "f =\n",
      "\n",
      "@(x) 10 * log (x) - 1\n",
      "\n",
      "f(0)=-Inf \n",
      "f(1)=-1 \n"
     ]
    },
    {
     "data": {
      "image/png": "[encoded data removed]",
      "text/plain": [
       "<IPython.core.display.Image object>"
      ]
     },
     "metadata": {},
     "output_type": "display_data"
    }
   ],
   "source": [
    "##Math Functions F(X)\n",
    "f=@(x)10*log(x)-1 ##f(x)=10*log(x)-1\n",
    "f(0);\n",
    "printf(\"f(0)=%d \\n\", ans)\n",
    "f(1);\n",
    "printf(\"f(1)=%d \\n\", ans)\n",
    "x=-10:0.1:10;\n",
    "plot(f(x), x)"
   ]
  },
  {
   "cell_type": "code",
   "execution_count": 11,
   "metadata": {},
   "outputs": [
    {
     "name": "stdout",
     "output_type": "stream",
     "text": [
      "a =\n",
      "\n",
      "   0.528981   0.027385\n",
      "   0.241710   0.409116\n",
      "\n",
      "b =\n",
      "\n",
      "   0.72270\n",
      "   0.36655\n",
      "\n",
      "ans =\n",
      "\n",
      "   1.361463\n",
      "   0.091592\n",
      "\n"
     ]
    }
   ],
   "source": [
    "##Function\n",
    "function solve_system(a,b)\n",
    "    a\\b\n",
    "endfunction\n",
    "\n",
    "a=rand(2,2)\n",
    "b=rand(2,1)\n",
    "solve_system(a,b)"
   ]
  }
 ],
 "metadata": {
  "kernelspec": {
   "display_name": "Octave",
   "language": "octave",
   "name": "octave"
  },
  "language_info": {
   "file_extension": ".m",
   "help_links": [
    {
     "text": "GNU Octave",
     "url": "https://www.gnu.org/software/octave/support.html"
    },
    {
     "text": "Octave Kernel",
     "url": "https://github.com/Calysto/octave_kernel"
    },
    {
     "text": "MetaKernel Magics",
     "url": "https://metakernel.readthedocs.io/en/latest/source/README.html"
    }
   ],
   "mimetype": "text/x-octave",
   "name": "octave",
   "version": "5.1.0"
  }
 },
 "nbformat": 4,
 "nbformat_minor": 2
}
